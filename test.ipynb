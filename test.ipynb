{
 "cells": [
  {
   "cell_type": "code",
   "execution_count": 9,
   "metadata": {},
   "outputs": [],
   "source": [
    "from selenium import webdriver\n",
    "from selenium.webdriver.common.by import By\n",
    "\n",
    "driver = webdriver.Chrome()"
   ]
  },
  {
   "cell_type": "code",
   "execution_count": 10,
   "metadata": {},
   "outputs": [],
   "source": [
    "driver.get(\"https://web.whatsapp.com\")"
   ]
  },
  {
   "cell_type": "code",
   "execution_count": 7,
   "metadata": {},
   "outputs": [],
   "source": [
    "QR_CODE_QUERY = (By.XPATH, \"//div[@data-testid='qrcode']\")\n",
    "qrcode = driver.find_element(*QR_CODE_QUERY)"
   ]
  },
  {
   "cell_type": "code",
   "execution_count": null,
   "metadata": {},
   "outputs": [],
   "source": [
    "# 2@rpIcyQawPcI6DQU37PiC8Xi5ixr8MzIcASRhnLzCKXDWMH3j9kimLnMHdkmKWBsR/i2hJGAW2TOojw\n",
    "# ==,Qb7geIjEuEQLHD+6v8ftzPaxQpPgjlw5Mc106E0STAg=,+AXrD87CyRginl5HDCrpTTfD0KXmstjP\n",
    "# DcL1JrgG6i8=,kp8IVb7mWOPrqCbDq7fLoG8x/HOnrMvMtwxI+wTiZ4Y="
   ]
  },
  {
   "cell_type": "code",
   "execution_count": 15,
   "metadata": {},
   "outputs": [
    {
     "ename": "KeyboardInterrupt",
     "evalue": "",
     "output_type": "error",
     "traceback": [
      "\u001b[1;31m---------------------------------------------------------------------------\u001b[0m",
      "\u001b[1;31mKeyboardInterrupt\u001b[0m                         Traceback (most recent call last)",
      "Cell \u001b[1;32mIn[15], line 4\u001b[0m\n\u001b[0;32m      1\u001b[0m \u001b[39mfrom\u001b[39;00m \u001b[39mtime\u001b[39;00m \u001b[39mimport\u001b[39;00m sleep\n\u001b[0;32m      3\u001b[0m \u001b[39mwhile\u001b[39;00m qrcode\u001b[39m.\u001b[39mis_displayed():\n\u001b[1;32m----> 4\u001b[0m     sleep(\u001b[39m.1\u001b[39;49m)\n",
      "\u001b[1;31mKeyboardInterrupt\u001b[0m: "
     ]
    }
   ],
   "source": [
    "from time import sleep\n",
    "\n",
    "while qrcode.is_displayed():\n",
    "    sleep(.1)"
   ]
  },
  {
   "cell_type": "code",
   "execution_count": 1,
   "metadata": {},
   "outputs": [],
   "source": [
    "from selenium import webdriver\n",
    "from selenium.webdriver.common.by import By\n",
    "from selenium.webdriver.support.ui import WebDriverWait"
   ]
  },
  {
   "cell_type": "code",
   "execution_count": null,
   "metadata": {},
   "outputs": [],
   "source": [
    "def _wait_for_presence_of_an_element(browser, selector):\n",
    "    element = None\n",
    "     \n",
    "    try:\n",
    "        element = WebDriverWait(browser, DEFAULT_WAIT).until(\n",
    "            EC.presence_of_element_located(selector)\n",
    "        )\n",
    "    except:\n",
    "        pass\n",
    "    finally:\n",
    "        return element\n",
    "\n",
    "def sessionGenerator(sessionFilePath):\n",
    "    # 1.1 Open Chrome browser\n",
    "    browser = webdriver.Chrome()\n",
    " \n",
    "    # 1.2 Open Web Whatsapp\n",
    "    browser.get(\"https://web.whatsapp.com/\")\n",
    " \n",
    "    # 1.3 Ask user to scan QR code\n",
    "    print(\"Waiting for QR code scan...\")\n",
    " \n",
    "    # 1.4 Wait for QR code to be scanned\n",
    "    _wait_for_presence_of_an_element(\n",
    "      browser, MAIN_SEARCH_BAR__SEARCH_ICON)\n",
    " \n",
    "    # 1.5 Execute javascript in browser and\n",
    "    # extract the session text\n",
    "    session = browser.execute_script(EXTRACT_SESSION)\n",
    " \n",
    "    # 1.6 Save file with session text file with\n",
    "    # custom file extension \".wa\"\n",
    "    with open(sessionFilePath, \"w\", encoding=\"utf-8\") as sessionFile:\n",
    "        sessionFile.write(str(session))\n",
    " \n",
    "    print(\"Your session file is saved to: \" + sessionFilePath)\n",
    " \n",
    "    # 1.7 Close the browser\n",
    "    browser.close()"
   ]
  },
  {
   "cell_type": "code",
   "execution_count": 5,
   "metadata": {},
   "outputs": [],
   "source": [
    "from telegram.ext import Application\n",
    "from telegram import (\n",
    "    Update,\n",
    "    InlineKeyboardButton, InlineKeyboardMarkup\n",
    ")\n",
    "import asyncio\n"
   ]
  },
  {
   "cell_type": "code",
   "execution_count": 1,
   "metadata": {},
   "outputs": [],
   "source": [
    "from watchdog.observers import Observer\n",
    "from watchdog.events import FileSystemEventHandler\n",
    "\n",
    "def only_files(func):\n",
    "    def inner(*args, **kwargs):\n",
    "        print(args[1].is_synthetic)\n",
    "        if args[1].is_directory:\n",
    "            return None\n",
    "        return func(*args, **kwargs)\n",
    "    return inner\n",
    "\n",
    "class EventHandler(FileSystemEventHandler):\n",
    "    \"\"\"Logs all the events captured.\"\"\"\n",
    "\n",
    "    def __init__(self):\n",
    "        super().__init__()\n",
    "\n",
    "    @only_files\n",
    "    def on_created(self, event):\n",
    "        super().on_created(event)\n",
    "        \n",
    "    @only_files\n",
    "    def on_deleted(self, event):\n",
    "        super().on_deleted(event)\n",
    "        \n",
    "\n",
    "class BulkMessaging:\n",
    "    def __init__(self, application: Application):\n",
    "        self.application: Application = application\n",
    "    \n",
    "    def get_subscribed_users(self):\n",
    "        return self.application.bot_data[\"subscribed\"]\n",
    "    \n",
    "    def send(self):\n",
    "        message = \"⚠ Необходимо авторизоваться ⚠\"\n",
    "        keyboard = InlineKeyboardMarkup([\n",
    "            [InlineKeyboardButton(\"Получить QR код\", callback_data=\"qrcode\")]\n",
    "        ])\n",
    "        loop = asyncio.get_event_loop()\n",
    "        for chat_id in self.get_subscribed_users():\n",
    "            loop.run_until_complete(self.application.bot.send_message(chat_id, message, reply_markup=keyboard))    "
   ]
  },
  {
   "cell_type": "code",
   "execution_count": 2,
   "metadata": {},
   "outputs": [
    {
     "name": "stdout",
     "output_type": "stream",
     "text": [
      "False\n",
      "('created', 'images\\\\MetaTrader 5.png')\n",
      "False\n",
      "('deleted', 'images\\\\MetaTrader 5.png')\n"
     ]
    }
   ],
   "source": [
    "event_handler = EventHandler()\n",
    "observer = Observer()\n",
    "observer.schedule(event_handler, \"images\")\n",
    "observer.start()"
   ]
  },
  {
   "cell_type": "code",
   "execution_count": 69,
   "metadata": {},
   "outputs": [],
   "source": [
    "observer.stop()"
   ]
  },
  {
   "cell_type": "code",
   "execution_count": null,
   "metadata": {},
   "outputs": [],
   "source": [
    "Application.bot.send_message()"
   ]
  }
 ],
 "metadata": {
  "kernelspec": {
   "display_name": "env",
   "language": "python",
   "name": "python3"
  },
  "language_info": {
   "codemirror_mode": {
    "name": "ipython",
    "version": 3
   },
   "file_extension": ".py",
   "mimetype": "text/x-python",
   "name": "python",
   "nbconvert_exporter": "python",
   "pygments_lexer": "ipython3",
   "version": "3.10.8"
  },
  "orig_nbformat": 4,
  "vscode": {
   "interpreter": {
    "hash": "db91a9b4f3921d6fc6f790a54dbc2ce54d18f6b7c5e35a849dfc0464925c54c6"
   }
  }
 },
 "nbformat": 4,
 "nbformat_minor": 2
}
